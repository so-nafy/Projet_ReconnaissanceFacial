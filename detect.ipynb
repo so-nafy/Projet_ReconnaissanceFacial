{
 "cells": [
  {
   "cell_type": "code",
   "execution_count": 10,
   "metadata": {},
   "outputs": [],
   "source": [
    "import dlib\n",
    "import cv2\n",
    "from imutils import face_utils\n",
    "import os"
   ]
  },
  {
   "cell_type": "code",
   "execution_count": 13,
   "metadata": {},
   "outputs": [],
   "source": [
    "class CSave:\n",
    "    \n",
    "    def __init__(self,path):\n",
    "        self.counter = 1\n",
    "        self.path = path\n",
    "        pass\n",
    "    \n",
    "    def SaveImageSq(self,frame,v):\n",
    "        cv2.imwrite(self.path+\"kakou\"+str(self.counter)+\".jpg\",frame[v[1]:v[1]+v[3],v[0]:v[0] + v[2]])\n",
    "        print ('Image_'+str(self.counter))\n",
    "        self.counter +=1\n",
    "        \n",
    "    def SaveImageCam(self,frame,v):\n",
    "        cv2.imwrite(self.path+str(self.counter)+\".jpg\",frame)\n",
    "        print ('Image_'+\"kakou\"+str(self.counter))\n",
    "        self.counter +=1\n",
    "        \n",
    "    def CreateFileCsv (self,Label='Data',entetes = ['Id','Nom','Prenom','Age','Niveau','Classe']):\n",
    "        self.DataFile = self.path+Label+'.csv'\n",
    "        f = open(self.DataFile, 'w')\n",
    "        ligneEntete = \";\".join(entetes) + \"\\n\"\n",
    "        f.write(ligneEntete)\n",
    "        f.close()\n",
    "        print(\"Le fichier de donnee a ete cree\")\n",
    "        \n",
    "    def AddDataCsv(self,data):\n",
    "        valeurs = [data['Id'],data['Nom'], data['Prenom'], data['Age'], data['Niveau'], data['Classe']]\n",
    "        f = open(self.DataFile, 'a')\n",
    "        ligne = \";\".join(valeurs) + \"\\n\"\n",
    "        f.write(ligne)\n",
    "        f.close()\n",
    "        print(\"les donnees sont ajoutees\")\n",
    "\n",
    "class Camera:\n",
    "    \n",
    "    def __init__(self):\n",
    "        print(\"creation de la camera\")\n",
    "        self.cap = cv2.VideoCapture(0)\n",
    "  \n",
    "    def CaptureFrame(self):\n",
    "        self.ret, self.frame = self.cap.read()\n",
    "        if self.ret==False:\n",
    "            print(\"verifier votre camera\")\n",
    "        else: \n",
    "            return self.frame\n",
    "        \n",
    "    def Display(self,title='Video Capture'):\n",
    "        cv2.imshow(title,self.frame)\n",
    "        \n",
    "    def __del__(self):\n",
    "        self.cap.release()\n",
    "        cv2.destroyAllWindows()\n",
    "        \n",
    "\n",
    "class Detection: \n",
    "    \n",
    "    def __init__(self):\n",
    "        print(\"creation de l'objet detection\")\n",
    "        self.detector = dlib.get_frontal_face_detector()\n",
    "        pass\n",
    "    \n",
    "    def LoadPredictor(self,data): \n",
    "        self.predictor = dlib.shape_predictor(data)\n",
    "        \n",
    "    def DetectFace(self,frame):\n",
    "        self.vect=[]\n",
    "        self.gray = cv2.cvtColor(frame, cv2.COLOR_BGR2GRAY)\n",
    "        self.rects = self.detector(self.gray, 1)\n",
    "        for (i, rect) in enumerate(self.rects):\n",
    "            (x, y, w, h) = face_utils.rect_to_bb(rect)\n",
    "            cv2.rectangle(frame, (x, y), (x + w, y + h), (0, 0, 255), 2)\n",
    "            if (i==0):\n",
    "                self.vect = [x,y,w,h]\n",
    "            \n",
    "    def Detectlandmarks(self,frame,dots_size=5):\n",
    "        self.vect=[]\n",
    "        self.gray = cv2.cvtColor(frame, cv2.COLOR_BGR2GRAY)\n",
    "        self.rects = self.detector(self.gray, 1)\n",
    "        for (i, rect) in enumerate(self.rects):\n",
    "            shape = self.predictor(self.gray, rect)\n",
    "            shape = face_utils.shape_to_np(shape)\n",
    "            for (x, y) in shape:\n",
    "                cv2.circle(frame, (x, y), dots_size, (0, 255, 0), -1)\n",
    "            if (i==0):\n",
    "                self.vect = [x,y,w,h]\n",
    "                \n",
    "    def DetectlandmarksRectrectangle(self,frame,dots_size=5):\n",
    "        self.vect=[]\n",
    "        self.gray = cv2.cvtColor(frame, cv2.COLOR_BGR2GRAY)\n",
    "        self.rects = self.detector(self.gray, 1)\n",
    "        for (i, rect) in enumerate(self.rects):\n",
    "            shape = self.predictor(self.gray, rect)\n",
    "            shape = face_utils.shape_to_np(shape)\n",
    "            (x, y, w, h) = face_utils.rect_to_bb(rect)\n",
    "            cv2.rectangle(frame, (x, y), (x + w, y + h), (0, 0, 255), 2)\n",
    "            for (x, y) in shape:\n",
    "                cv2.circle(frame, (x, y), dots_size, (0, 255, 0), -1)\n",
    "            if (i==0):\n",
    "                self.vect = [x,y,w,h]\n",
    "        "
   ]
  },
  {
   "cell_type": "markdown",
   "metadata": {},
   "source": [
    "# Programme principal"
   ]
  },
  {
   "cell_type": "code",
   "execution_count": 14,
   "metadata": {},
   "outputs": [
    {
     "name": "stdout",
     "output_type": "stream",
     "text": [
      "Le fichier de donnee a ete cree\n",
      "Voulez-vous ajouter un nouvel étudiant ? oui/non :\n",
      "non\n",
      "Fin..\n"
     ]
    }
   ],
   "source": [
    "FileCsv = CSave(\"Data/\") \n",
    "FileCsv.CreateFileCsv(\"DataEcole\")\n",
    "\n",
    "id = 1\n",
    "while(True):\n",
    "    print(\"Voulez-vous ajouter un nouvel étudiant ? oui/non :\")\n",
    "    rep =input()\n",
    "\n",
    "    if (rep.lower()==\"oui\"):\n",
    "    \n",
    "        PersonalData = {}\n",
    "        print(\"Entrez les données de l'etudiant :\")\n",
    "        PersonalData[\"Id\"] = \"Id_\"+str(id)\n",
    "        PersonalData[\"Nom\"] = input(\"Nom :\") \n",
    "        PersonalData[\"Prenom\"] = input(\"Prenom :\")\n",
    "        PersonalData[\"Age\"] = input(\"Age :\")\n",
    "        PersonalData[\"Niveau\"] = input(\"Niveau d'etude :\")\n",
    "        PersonalData[\"Classe\"] = input(\"Classe :\")\n",
    "\n",
    "        FileCsv.AddDataCsv(PersonalData)\n",
    "\n",
    "        cam = Camera()\n",
    "        det = Detection()\n",
    "        det.LoadPredictor('shape_predictor_68_face_landmarks.dat')\n",
    "        SaveIm = CSave(\"Data/\")\n",
    "        while(True):\n",
    "            frame = cam.CaptureFrame()\n",
    "            det.DetectFace(frame)\n",
    "            v=det.vect\n",
    "            #det.Detectlandmarks(frame)\n",
    "            #det.DetectlandmarksRectrectangle(frame,1)\n",
    "            cam.Display()\n",
    "            key = cv2.waitKey(10)\n",
    "            if key & 0xFF == ord('q'):\n",
    "                break\n",
    "            if key & 0xFF == ord('w'):\n",
    "                SaveIm.SaveImageSq(frame,v)#PersonalData[\"Id\"]\n",
    "        \n",
    "        del cam\n",
    "        id+=1\n",
    "    elif(rep.lower()==\"non\"):\n",
    "        print(\"Fin..\")\n",
    "        break\n",
    "    else:\n",
    "        print(\"Exemple d'usage : oui/non..\")\n",
    "        break\n",
    "        \n"
   ]
  },
  {
   "cell_type": "code",
   "execution_count": null,
   "metadata": {},
   "outputs": [],
   "source": []
  },
  {
   "cell_type": "code",
   "execution_count": null,
   "metadata": {},
   "outputs": [],
   "source": []
  },
  {
   "cell_type": "code",
   "execution_count": null,
   "metadata": {},
   "outputs": [],
   "source": []
  },
  {
   "cell_type": "markdown",
   "metadata": {},
   "source": [
    "# Chantier"
   ]
  },
  {
   "cell_type": "code",
   "execution_count": 35,
   "metadata": {},
   "outputs": [
    {
     "name": "stdout",
     "output_type": "stream",
     "text": [
      "Voulez-vous ajouter un nouvel étudiant ? oui/non :\n",
      "oui\n",
      "oui\n"
     ]
    }
   ],
   "source": [
    "print(\"Voulez-vous ajouter un nouvel étudiant ? oui/non :\")\n",
    "rep =input()\n",
    "print(rep)"
   ]
  },
  {
   "cell_type": "code",
   "execution_count": 9,
   "metadata": {},
   "outputs": [],
   "source": [
    "import os\n",
    "os.mkdir(\"Kakou\")"
   ]
  },
  {
   "cell_type": "code",
   "execution_count": 28,
   "metadata": {},
   "outputs": [],
   "source": [
    "path =\"Data/\"\n",
    "Label = \"essaye\"\n",
    "DataFile = path+Label+'.csv'\n",
    "entetes = ['Id','Nom','Prenom','Age','Niveau','Classe']\n",
    "a={}\n",
    "a['Nom']='test1'\n",
    "a['prenom']='test2'\n",
    "v = ['NOM','nom','prenom','age']\n",
    "f = open(\"test.csv\", 'w')\n",
    "\n",
    "ligne = \";\".join(entetes) + \"\\n\"\n",
    "f.write(ligne)\n",
    "\n",
    "f.close()"
   ]
  },
  {
   "cell_type": "code",
   "execution_count": null,
   "metadata": {},
   "outputs": [],
   "source": []
  },
  {
   "cell_type": "code",
   "execution_count": 5,
   "metadata": {},
   "outputs": [],
   "source": [
    "entetes = ['Colonne1','Colonne2','Colonne3','Colonne4','Colonne5']\n",
    "\n",
    "valeurs = [\n",
    "     [u'Valeur1', u'Valeur2', u'Valeur3', u'Valeur4', u'Valeur5'],\n",
    "     [u'Valeur6', u'Valeur7', u'Valeur8', u'Valeur9', u'Valeur10'],\n",
    "     [u'Valeur11', u'Valeur12', u'Valeur13', u'Valeur14', u'Valeur15']\n",
    "]\n",
    "\n",
    "f = open('monFichier.csv', 'w')\n",
    "ligneEntete = \";\".join(entetes) + \"\\n\"\n",
    "f.write(ligneEntete)\n",
    "for valeur in valeurs:\n",
    "     ligne = \";\".join(valeur) + \"\\n\"\n",
    "     f.write(ligne)\n",
    "\n",
    "f.close()"
   ]
  },
  {
   "cell_type": "code",
   "execution_count": 3,
   "metadata": {},
   "outputs": [],
   "source": []
  },
  {
   "cell_type": "code",
   "execution_count": 4,
   "metadata": {},
   "outputs": [],
   "source": []
  },
  {
   "cell_type": "code",
   "execution_count": 5,
   "metadata": {},
   "outputs": [],
   "source": []
  },
  {
   "cell_type": "code",
   "execution_count": 6,
   "metadata": {},
   "outputs": [],
   "source": []
  },
  {
   "cell_type": "code",
   "execution_count": 8,
   "metadata": {},
   "outputs": [],
   "source": []
  },
  {
   "cell_type": "code",
   "execution_count": 9,
   "metadata": {},
   "outputs": [
    {
     "data": {
      "text/plain": [
       "-1"
      ]
     },
     "execution_count": 9,
     "metadata": {},
     "output_type": "execute_result"
    }
   ],
   "source": []
  },
  {
   "cell_type": "markdown",
   "metadata": {},
   "source": [
    "# Video Capture"
   ]
  },
  {
   "cell_type": "code",
   "execution_count": 4,
   "metadata": {},
   "outputs": [],
   "source": [
    "\n",
    "counter = 1\n",
    "detector = dlib.get_frontal_face_detector()\n",
    "predictor = dlib.shape_predictor('shape_predictor_68_face_landmarks.dat')\n",
    "cap = cv2.VideoCapture(0)\n",
    "while(True):\n",
    "    # Capture frame-by-frame\n",
    "    ret, frame = cap.read()\n",
    "    if ret==False:\n",
    "        print(\"verifier votre camera\")\n",
    "    \n",
    "    gray = cv2.cvtColor(frame, cv2.COLOR_BGR2GRAY)\n",
    "    \n",
    "    rects = detector(gray, 1)\n",
    "    for (i, rect) in enumerate(rects):\n",
    "         #shape = predictor(gray, rect)\n",
    "         #shape = face_utils.shape_to_np(shape)\n",
    "         (x, y, w, h) = face_utils.rect_to_bb(rect)\n",
    "         cv2.rectangle(frame, (x, y), (x + w, y + h), (0, 0, 255), 2)\n",
    "    # convert dlib's rectangle to a OpenCV-style bounding box\n",
    "    # [i.e., (x, y, w, h)], then draw the face bounding box\n",
    "    \n",
    "     # landmarks = predictor(gray, rect)\n",
    "      #draw_rect(rect,frame)\n",
    "      #draw_landmarks(landmarks,frame)\n",
    "    \n",
    "    # Display frame\n",
    "    cv2.imshow('Video Capture',frame)\n",
    "    if cv2.waitKey(5) & 0xFF == ord('q'):\n",
    "        break\n",
    "# When everything done, release the capture\n",
    "cap.release()\n",
    "cv2.destroyAllWindows()"
   ]
  },
  {
   "cell_type": "code",
   "execution_count": 21,
   "metadata": {},
   "outputs": [
    {
     "name": "stdout",
     "output_type": "stream",
     "text": [
      "[1, [1, 3, 4]]\n",
      "3\n"
     ]
    }
   ],
   "source": [
    "v=[]\n",
    "c = [1,3,4]\n",
    "v.append(1)\n",
    "v.append(c)\n",
    "print (v)\n",
    "print (c[1])"
   ]
  },
  {
   "cell_type": "code",
   "execution_count": 10,
   "metadata": {},
   "outputs": [],
   "source": [
    "#from imutils import face_utils\n",
    "import dlib\n",
    "import cv2\n",
    " \n",
    "p = \"shape_predictor_68_face_landmarks.dat\"\n",
    "detector = dlib.get_frontal_face_detector()\n",
    "predictor = dlib.shape_predictor(p)\n",
    "\n",
    "cap = cv2.VideoCapture(0)\n",
    " \n",
    "while True:\n",
    "    \n",
    "    _, image = cap.read()\n",
    "    \n",
    "    gray = cv2.cvtColor(image, cv2.COLOR_BGR2GRAY)\n",
    "        \n",
    "   \n",
    "    rects = detector(gray, 0)\n",
    "    \n",
    "    \n",
    "    for (i, rect) in enumerate(rects):\n",
    "       \n",
    "        shape = predictor(gray, rect)\n",
    "        shape = face_utils.shape_to_np(shape)\n",
    "    \n",
    "        \n",
    "        for (x, y) in shape:\n",
    "            cv2.circle(image, (x, y), 2, (0, 255, 0), -1)\n",
    "    \n",
    "    # Show the image\n",
    "    cv2.imshow(\"Output\", image)\n",
    "    \n",
    "    k = cv2.waitKey(5) & 0xFF\n",
    "    if k ==ord('q'):\n",
    "        break\n",
    "\n",
    "cv2.destroyAllWindows()\n",
    "cap.release()"
   ]
  }
 ],
 "metadata": {
  "kernelspec": {
   "display_name": "Python 3",
   "language": "python",
   "name": "python3"
  },
  "language_info": {
   "codemirror_mode": {
    "name": "ipython",
    "version": 3
   },
   "file_extension": ".py",
   "mimetype": "text/x-python",
   "name": "python",
   "nbconvert_exporter": "python",
   "pygments_lexer": "ipython3",
   "version": "3.7.4"
  }
 },
 "nbformat": 4,
 "nbformat_minor": 2
}
